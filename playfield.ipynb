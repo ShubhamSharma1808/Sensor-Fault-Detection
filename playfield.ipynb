{
 "cells": [
  {
   "cell_type": "markdown",
   "metadata": {},
   "source": []
  },
  {
   "cell_type": "code",
   "execution_count": null,
   "metadata": {},
   "outputs": [],
   "source": []
  }
 ],
 "metadata": {
  "kernelspec": {
   "display_name": "Python 3.8.0",
   "language": "python",
   "name": "python3"
  },
  "language_info": {
   "name": "python",
   "version": "3.8.0"
  },
  "orig_nbformat": 4,
  "vscode": {
   "interpreter": {
    "hash": "2d2aacf320dde3aa2b8c9f71e0b30ca949bdac6b9f1b2ae28a9412f8ed695f4a"
   }
  }
 },
 "nbformat": 4,
 "nbformat_minor": 2
}
