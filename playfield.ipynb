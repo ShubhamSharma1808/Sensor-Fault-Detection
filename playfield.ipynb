{
 "cells": [
  {
   "cell_type": "markdown",
   "metadata": {},
   "source": []
  },
  {
   "cell_type": "code",
   "execution_count": 91,
   "metadata": {},
   "outputs": [
    {
     "name": "stdout",
     "output_type": "stream",
     "text": [
      "[[1 2]\n",
      " [2 3]\n",
      " [3 4]]\n",
      "[[3]\n",
      " [4]\n",
      " [5]]\n"
     ]
    }
   ],
   "source": [
    "import numpy as np\n",
    "\n",
    "train_arr = [[1,2,3],[2,3,4],[3,4,5]]\n",
    "\n",
    "x_train, y_train =  (\n",
    "                np.delete(train_arr, -1, 1),   # [ : :-1] -> without last column\n",
    "                np.delete(train_arr, slice(0,-1), axis=1)\n",
    "            )\n",
    "\n",
    "print (x_train)\n",
    "print(y_train)"
   ]
  },
  {
   "cell_type": "code",
   "execution_count": null,
   "metadata": {},
   "outputs": [],
   "source": [
    "file_path = \"C:\\\\Users\\\\LENOVO\\\\OneDrive\\\\Self Study\\\\Github Repos\\\\Sensor-Fault-Detection\\\\artifact\\\\data_tranformation\\\\transformed\\\\train.npy\"\n",
    "\n",
    "import numpy as np\n",
    "from sensor.utils.main_utils import load_numpy_array_data\n",
    "\n",
    "train_arr2 = load_numpy_array_data(file_path)\n",
    "train_arr2 = train_arr2[0:2]\n",
    "#print(train_arr2)\n",
    "#train_arr3 = np.delete(train_arr2,  slice(0,-1), axis = 1)\n",
    "#print(\"train_arr3\\n\", train_arr3)\n",
    "x_train, y_train = (\n",
    "    np.delete(train_arr2,  slice(0,-1), axis = 1),\n",
    "    np.delete(train_arr2,  slice(0,-1), axis = 1),    \n",
    ")\n",
    "\n",
    "print(x_train)\n",
    "print(y_train)"
   ]
  },
  {
   "cell_type": "code",
   "execution_count": null,
   "metadata": {},
   "outputs": [],
   "source": []
  }
 ],
 "metadata": {
  "kernelspec": {
   "display_name": "Python 3.8.0",
   "language": "python",
   "name": "python3"
  },
  "language_info": {
   "codemirror_mode": {
    "name": "ipython",
    "version": 3
   },
   "file_extension": ".py",
   "mimetype": "text/x-python",
   "name": "python",
   "nbconvert_exporter": "python",
   "pygments_lexer": "ipython3",
   "version": "3.8.15"
  },
  "orig_nbformat": 4,
  "vscode": {
   "interpreter": {
    "hash": "2d2aacf320dde3aa2b8c9f71e0b30ca949bdac6b9f1b2ae28a9412f8ed695f4a"
   }
  }
 },
 "nbformat": 4,
 "nbformat_minor": 2
}
